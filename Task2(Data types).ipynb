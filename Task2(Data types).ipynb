{
 "cells": [
  {
   "cell_type": "markdown",
   "id": "b1276c58",
   "metadata": {},
   "source": [
    "## Q1 : (list comprehensions)Print the list in lexicographic increasing order."
   ]
  },
  {
   "cell_type": "code",
   "execution_count": 1,
   "id": "d57be3e5",
   "metadata": {},
   "outputs": [
    {
     "name": "stdout",
     "output_type": "stream",
     "text": [
      "1\n",
      "1\n",
      "1\n",
      "2\n",
      "[[0, 0, 0], [0, 0, 1], [0, 1, 0], [1, 0, 0], [1, 1, 1]]\n"
     ]
    }
   ],
   "source": [
    "if __name__ == '__main__':\n",
    "    x = int(input())\n",
    "    y = int(input())\n",
    "    z = int(input())\n",
    "    n = int(input())\n",
    "    List = [[i,j,k] for i in range(x+1) for j in range(y+1) for k in range(z+1) if (i+j+k)!=n]\n",
    "    print(List) "
   ]
  },
  {
   "cell_type": "markdown",
   "id": "13c129a3",
   "metadata": {},
   "source": [
    "## Q2 : Find the runner up score"
   ]
  },
  {
   "cell_type": "code",
   "execution_count": 13,
   "id": "86848229",
   "metadata": {},
   "outputs": [
    {
     "name": "stdout",
     "output_type": "stream",
     "text": [
      "5\n",
      "2 3 6 6 5\n",
      "5\n"
     ]
    }
   ],
   "source": [
    "if __name__ == '__main__':\n",
    "    n = int(input())\n",
    "    arr = map(int, input().split())\n",
    "    print(sorted(list(set(arr)))[::-1][1])"
   ]
  },
  {
   "cell_type": "markdown",
   "id": "433cb698",
   "metadata": {},
   "source": [
    "### Q3 : (Nested lists) If there are multiple students with the second lowest grade, order their names alphabetically and print each name on a new line."
   ]
  },
  {
   "cell_type": "code",
   "execution_count": 26,
   "id": "ac909b14",
   "metadata": {},
   "outputs": [
    {
     "name": "stdout",
     "output_type": "stream",
     "text": [
      "5\n",
      "Harry\n",
      "37.21\n",
      "Berry \n",
      "37.21\n",
      "Tina\n",
      "37.2\n",
      "Akriti\n",
      "41\n",
      "Harsh\n",
      "39\n",
      "Berry \n",
      "Harry\n"
     ]
    }
   ],
   "source": [
    "l = []\n",
    "second_lowest_names = []\n",
    "scores = set()\n",
    "\n",
    "for _ in range(int(input())):\n",
    "    name = input()\n",
    "    score = float(input())\n",
    "    l.append([name, score])\n",
    "    scores.add(score)\n",
    "        \n",
    "second_lowest = sorted(scores)[1]\n",
    "\n",
    "for name, score in l:\n",
    "    if score == second_lowest:\n",
    "        second_lowest_names.append(name)\n",
    "\n",
    "for name in sorted(second_lowest_names):\n",
    "    print(name, end='\\n')"
   ]
  },
  {
   "cell_type": "markdown",
   "id": "ca349697",
   "metadata": {},
   "source": [
    "## Q4 : Find the percentage"
   ]
  },
  {
   "cell_type": "code",
   "execution_count": 28,
   "id": "e7b01ec6",
   "metadata": {},
   "outputs": [
    {
     "name": "stdout",
     "output_type": "stream",
     "text": [
      "3\n",
      "Krishna 67 68 69\n",
      "Arjun 70 98 63\n",
      "Malika 52 56 60\n",
      "Arjun\n",
      "77.00\n"
     ]
    }
   ],
   "source": [
    "if __name__ == '__main__':\n",
    "    n = int(input())\n",
    "    student_marks = {}\n",
    "    for _ in range(n):\n",
    "        name, *line = input().split()\n",
    "        scores = list(map(float, line))\n",
    "        student_marks[name] = scores\n",
    "    query_name = input()\n",
    "    output = list(student_marks[query_name])\n",
    "    percentage = sum(output)/len(output)\n",
    "    print('%.2f' % percentage)"
   ]
  },
  {
   "cell_type": "markdown",
   "id": "a7f7960c",
   "metadata": {},
   "source": [
    "## Q5 : Lists"
   ]
  },
  {
   "cell_type": "code",
   "execution_count": 33,
   "id": "8dcba482",
   "metadata": {},
   "outputs": [
    {
     "name": "stdout",
     "output_type": "stream",
     "text": [
      "12\n",
      "insert 0 5\n",
      "insert 1 10\n",
      "insert 0 6\n",
      "print\n",
      "[6, 5, 10]\n",
      "remove 6\n",
      "append 9\n",
      "append 1\n",
      "sort\n",
      "print\n",
      "[1, 5, 9, 10]\n",
      "pop\n",
      "reverse\n",
      "print\n",
      "[9, 5, 1]\n"
     ]
    }
   ],
   "source": [
    "if __name__ == '__main__':\n",
    "    N = int(input())\n",
    "    Output = []\n",
    "    for i in range(0,N):\n",
    "        ip = input().split()\n",
    "        if ip[0] == \"print\":\n",
    "            print(Output)\n",
    "        elif ip[0] == \"insert\":\n",
    "            Output.insert(int(ip[1]),int(ip[2]))\n",
    "        elif ip[0] == \"remove\":\n",
    "            Output.remove(int(ip[1]))\n",
    "        elif ip[0] == \"pop\":\n",
    "            Output.pop()\n",
    "        elif ip[0] == \"append\":\n",
    "            Output.append(int(ip[1]))\n",
    "        elif ip[0] == \"sort\":\n",
    "            Output.sort()\n",
    "        else:\n",
    "            Output.reverse()"
   ]
  },
  {
   "cell_type": "markdown",
   "id": "4d6ceba7",
   "metadata": {},
   "source": [
    "## Q6 : Tuples"
   ]
  },
  {
   "cell_type": "code",
   "execution_count": 37,
   "id": "c479425c",
   "metadata": {},
   "outputs": [
    {
     "name": "stdout",
     "output_type": "stream",
     "text": [
      "2\n",
      " 1 2\n",
      "-3550055125485641917\n"
     ]
    }
   ],
   "source": [
    "if __name__ == '__main__':\n",
    "    n = int(input())\n",
    "    integer_list = map(int, input().split())\n",
    "    t = tuple(integer_list)\n",
    "    print(hash(t))"
   ]
  },
  {
   "cell_type": "markdown",
   "id": "87c6beda",
   "metadata": {},
   "source": [
    "## Q7 : Sets"
   ]
  },
  {
   "cell_type": "code",
   "execution_count": 39,
   "id": "6f144b7f",
   "metadata": {},
   "outputs": [
    {
     "name": "stdout",
     "output_type": "stream",
     "text": [
      "10\n",
      "161 182 161 154 176 170 167 171 170 174\n",
      "169.375\n"
     ]
    }
   ],
   "source": [
    "def average(array):\n",
    "    sum_arr = sum(set(array))\n",
    "    len_arr = len(set(array))\n",
    "    output = sum_arr/len_arr\n",
    "    return output\n",
    "\n",
    "if __name__ == '__main__':\n",
    "    n = int(input())\n",
    "    arr = list(map(int, input().split()))\n",
    "    result = average(arr)\n",
    "    print(result)"
   ]
  },
  {
   "cell_type": "markdown",
   "id": "3f8aa20a",
   "metadata": {},
   "source": [
    "## Q8 : No idea"
   ]
  },
  {
   "cell_type": "code",
   "execution_count": 43,
   "id": "1f9304f5",
   "metadata": {},
   "outputs": [
    {
     "name": "stdout",
     "output_type": "stream",
     "text": [
      "3 2\n",
      "1 5 3\n",
      "3 1\n",
      "5 7\n",
      "1\n"
     ]
    }
   ],
   "source": [
    "a = input().split()\n",
    "x = int(a[0])\n",
    "y = int(a[1])\n",
    "\n",
    "storage = list()\n",
    "count = 0\n",
    "\n",
    "storage = list(map(int, input().strip().split()))\n",
    "\n",
    "x1 = set(map(int, input().strip().split()))\n",
    "y1 = set(map(int, input().strip().split()))\n",
    "\n",
    "for i in storage:\n",
    "    if i in x1:\n",
    "        count = count+1\n",
    "    if i in y1:\n",
    "        count = count-1\n",
    "\n",
    "print(count)"
   ]
  },
  {
   "cell_type": "markdown",
   "id": "d80db7ea",
   "metadata": {},
   "source": [
    "## Q9 : Symmetric Difference"
   ]
  },
  {
   "cell_type": "code",
   "execution_count": 45,
   "id": "1a832f01",
   "metadata": {},
   "outputs": [
    {
     "name": "stdout",
     "output_type": "stream",
     "text": [
      "4\n",
      "2 4 5 9\n",
      "4\n",
      "2 4 11 12\n",
      "5\n",
      "9\n",
      "11\n",
      "12\n"
     ]
    }
   ],
   "source": [
    "a,b=(int(input()),input().split())\n",
    "c,d=(int(input()),input().split())\n",
    "x=set(b)\n",
    "y=set(d)\n",
    "p=y.difference(x)\n",
    "q=x.difference(y)\n",
    "r=p.union(q)\n",
    "print ('\\n'.join(sorted(r, key=int)))"
   ]
  },
  {
   "cell_type": "markdown",
   "id": "c10229da",
   "metadata": {},
   "source": [
    "## Q10 : Set.add"
   ]
  },
  {
   "cell_type": "code",
   "execution_count": 46,
   "id": "eb76573b",
   "metadata": {},
   "outputs": [
    {
     "name": "stdout",
     "output_type": "stream",
     "text": [
      "7\n",
      "Uk \n",
      "China\n",
      "USA\n",
      "France\n",
      "New zealand \n",
      "UK\n",
      "France\n",
      "6\n"
     ]
    }
   ],
   "source": [
    "n = int(input())\n",
    "countries = set()\n",
    "\n",
    "for i in range(n):\n",
    "    countries.add(input())\n",
    "print(len(countries))"
   ]
  },
  {
   "cell_type": "markdown",
   "id": "b302ad60",
   "metadata": {},
   "source": [
    "## Q11 : Set .discard(), .remove() & .pop()"
   ]
  },
  {
   "cell_type": "code",
   "execution_count": 48,
   "id": "bb946469",
   "metadata": {},
   "outputs": [
    {
     "name": "stdout",
     "output_type": "stream",
     "text": [
      "9\n",
      "1 2 3 4 5 6 7 8 9\n",
      "10\n",
      "pop\n",
      "remove 9\n",
      "discard 9\n",
      "discard 8\n",
      "remove 7\n",
      "pop\n",
      "discard 6\n",
      "remove 5\n",
      "pop\n",
      "discard 5\n",
      "4\n"
     ]
    }
   ],
   "source": [
    "n = int(input())\n",
    "s = set(map(int, input().split()))\n",
    "\n",
    "for i in range(int(input())):\n",
    "    s1 = input().split()\n",
    "    if s1[0] == 'pop':\n",
    "        s.pop()\n",
    "    elif s1[0] == 'remove':\n",
    "        s.remove(int(s1[1]))\n",
    "    elif s1[0] == 'discard':\n",
    "        s.discard(int(s1[1]))\n",
    "\n",
    "print(sum(s))"
   ]
  },
  {
   "cell_type": "markdown",
   "id": "bfcc258d",
   "metadata": {},
   "source": [
    "## Q12 : set.union() operation"
   ]
  },
  {
   "cell_type": "code",
   "execution_count": 52,
   "id": "9e97c9be",
   "metadata": {},
   "outputs": [
    {
     "name": "stdout",
     "output_type": "stream",
     "text": [
      "9\n",
      "1 2 3 4 5 6 7 8 9\n",
      "9\n",
      "10 1 2 3 11 21 55 6 8\n",
      "13\n"
     ]
    }
   ],
   "source": [
    "n1=input()\n",
    "s1=set(input().split(\" \"))\n",
    "n2=input()\n",
    "s2=set(input().split(\" \"))\n",
    "s3=s1.union(s2)\n",
    "print(len(s3))"
   ]
  },
  {
   "cell_type": "markdown",
   "id": "16471eb4",
   "metadata": {},
   "source": [
    "## Q13 : set.intersection() operation"
   ]
  },
  {
   "cell_type": "code",
   "execution_count": 54,
   "id": "44734c47",
   "metadata": {},
   "outputs": [
    {
     "name": "stdout",
     "output_type": "stream",
     "text": [
      "9\n",
      "1 2 3 4 5 6 7 8 9\n",
      "9\n",
      "10 1 2 3 11 21 55 6 8\n",
      "5\n"
     ]
    }
   ],
   "source": [
    "n1 = int(input())\n",
    "a = set(input().split())\n",
    "\n",
    "n2 = int(input())\n",
    "b = set(input().split())\n",
    "\n",
    "c = b.intersection(a)\n",
    "\n",
    "print(len(c))"
   ]
  },
  {
   "cell_type": "markdown",
   "id": "b4b561e9",
   "metadata": {},
   "source": [
    "## Q14 : Set.difference() operation"
   ]
  },
  {
   "cell_type": "code",
   "execution_count": 56,
   "id": "400090d1",
   "metadata": {},
   "outputs": [
    {
     "name": "stdout",
     "output_type": "stream",
     "text": [
      "9\n",
      "1 2 3 4 5 6 7 8 9 \n",
      "9\n",
      "10 1 2 3 11 21 55 6 8\n",
      "5\n"
     ]
    }
   ],
   "source": [
    "n1=input()\n",
    "a=set(input().split(\" \"))\n",
    "n2=input()\n",
    "b=set(input().split(\" \"))\n",
    "c=a.difference(b)\n",
    "print(len(c))"
   ]
  },
  {
   "cell_type": "markdown",
   "id": "05bb223d",
   "metadata": {},
   "source": [
    "## Q15 : Set.symmetric_difference()"
   ]
  },
  {
   "cell_type": "code",
   "execution_count": 58,
   "id": "9c1dfc8f",
   "metadata": {},
   "outputs": [
    {
     "name": "stdout",
     "output_type": "stream",
     "text": [
      "9\n",
      "1 2 3 4 5 6 7 8 9 \n",
      "9\n",
      "10 1 2 3 11 21 55 6 8\n",
      "8\n"
     ]
    }
   ],
   "source": [
    "a = int(input())\n",
    "b = input().split()\n",
    "b = list(map(int, b))\n",
    "c = int(input())\n",
    "d = input().split()\n",
    "d = list(map(int, d))\n",
    "\n",
    "print(len(set(b).symmetric_difference(set(d))))"
   ]
  },
  {
   "cell_type": "markdown",
   "id": "dad0578a",
   "metadata": {},
   "source": [
    "## Q16 : Set Mutations"
   ]
  },
  {
   "cell_type": "code",
   "execution_count": 60,
   "id": "9d9487be",
   "metadata": {},
   "outputs": [
    {
     "name": "stdout",
     "output_type": "stream",
     "text": [
      "16\n",
      "1 2 3 4 5 6 7 8 9 10 11 12 13 14 24 52\n",
      "4\n",
      "intersection_update 10\n",
      "2 3 5 6 8 9 1 4 7 11\n",
      "update 2\n",
      "55 66\n",
      "symmetric_difference_update 5\n",
      "22 7 35 62 58\n",
      "difference_update 7\n",
      "11 22 35 55 58 62 66\n",
      "38\n"
     ]
    }
   ],
   "source": [
    "n = int(input())\n",
    "a = set(map(int,input().split()))\n",
    "N = int(input())\n",
    "for i in range(N):\n",
    "    cmd = input().split()\n",
    "    opt = cmd[0]\n",
    "    s = set(map(int,input().split()))\n",
    "    if (opt == 'update'):\n",
    "        a |= s\n",
    "    elif (opt == 'intersection_update'):\n",
    "        a &= s\n",
    "    elif (opt == 'difference_update'):\n",
    "        a -= s\n",
    "    elif (opt == 'symmetric_difference_update'):\n",
    "        a ^= s\n",
    "print(sum(a))"
   ]
  },
  {
   "cell_type": "markdown",
   "id": "36bbc866",
   "metadata": {},
   "source": [
    "## Q17 : The Captains Room"
   ]
  },
  {
   "cell_type": "code",
   "execution_count": 61,
   "id": "12e814c2",
   "metadata": {},
   "outputs": [
    {
     "name": "stdout",
     "output_type": "stream",
     "text": [
      "5\n",
      "1 2 3 6 5 4 4 2 5 3 6 1 6 5 3 2 4 1 2 5 1 4 3 6 8 4 3 1 5 6 2 \n",
      "8\n"
     ]
    }
   ],
   "source": [
    "n = int(input())\n",
    "\n",
    "a = map(int, input().split())\n",
    "a = sorted(a)\n",
    "\n",
    "for i in range(len(a)):\n",
    "    if(i != len(a)-1):\n",
    "        if(a[i]!=a[i-1] and a[i]!=a[i+1]):\n",
    "            print(a[i])\n",
    "            break;\n",
    "    else:\n",
    "        print(a[i])"
   ]
  },
  {
   "cell_type": "markdown",
   "id": "336958ff",
   "metadata": {},
   "source": [
    "## Q18 : check subset"
   ]
  },
  {
   "cell_type": "code",
   "execution_count": 62,
   "id": "340d2358",
   "metadata": {},
   "outputs": [
    {
     "name": "stdout",
     "output_type": "stream",
     "text": [
      "3\n",
      "5\n",
      "1 2 3 5 6\n",
      "9\n",
      "9 8 5 6 3 2 1 4 7\n",
      "True\n",
      "1\n",
      "2\n",
      "5\n",
      "3 6 5 4 1\n",
      "False\n",
      "7\n",
      "1 2 3 5 6 8 9\n",
      "3\n",
      "9 8 2\n",
      "False\n"
     ]
    }
   ],
   "source": [
    "for i in range(int(input())): \n",
    "    a = int(input()); A = set(input().split()) \n",
    "    b = int(input()); B = set(input().split())\n",
    "    print((A & B) == A)"
   ]
  },
  {
   "cell_type": "markdown",
   "id": "67d8e0f4",
   "metadata": {},
   "source": [
    "## Q19 : Check strict superset"
   ]
  },
  {
   "cell_type": "code",
   "execution_count": 63,
   "id": "c820b150",
   "metadata": {},
   "outputs": [
    {
     "name": "stdout",
     "output_type": "stream",
     "text": [
      "1 2 3 4 5 6 7 8 9 10 11 12 23 45 84 78\n",
      "2\n",
      "1 2 3 4 5\n",
      "100 11 12\n",
      "False\n"
     ]
    }
   ],
   "source": [
    "a = set(input().split())\n",
    "n = int(input())\n",
    "output = True\n",
    "\n",
    "for i in range(n):\n",
    "    b = set(input().split())\n",
    "    if not b.issubset(a):\n",
    "        output = False\n",
    "    if len(b) >= len(a):\n",
    "        output = False\n",
    "\n",
    "print(output)"
   ]
  },
  {
   "cell_type": "code",
   "execution_count": null,
   "id": "e586ed1f",
   "metadata": {},
   "outputs": [],
   "source": []
  }
 ],
 "metadata": {
  "kernelspec": {
   "display_name": "Python 3 (ipykernel)",
   "language": "python",
   "name": "python3"
  },
  "language_info": {
   "codemirror_mode": {
    "name": "ipython",
    "version": 3
   },
   "file_extension": ".py",
   "mimetype": "text/x-python",
   "name": "python",
   "nbconvert_exporter": "python",
   "pygments_lexer": "ipython3",
   "version": "3.9.7"
  }
 },
 "nbformat": 4,
 "nbformat_minor": 5
}
